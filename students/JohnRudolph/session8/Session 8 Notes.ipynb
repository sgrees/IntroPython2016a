{
 "cells": [
  {
   "cell_type": "markdown",
   "metadata": {},
   "source": [
    "# Composed Class"
   ]
  },
  {
   "cell_type": "code",
   "execution_count": 2,
   "metadata": {
    "collapsed": false
   },
   "outputs": [],
   "source": [
    "class Other(object):\n",
    "    \n",
    "    def __init__(self):\n",
    "        print(\"Other __init__\")\n",
    "        \n",
    "    def override(self):\n",
    "        print(\"Other override()\")\n",
    "        \n",
    "    def implicit(self):\n",
    "        print(\"Other implicit()\")\n",
    "        \n",
    "    def altered(self):\n",
    "        print(\"Other altered()\")"
   ]
  },
  {
   "cell_type": "code",
   "execution_count": 3,
   "metadata": {
    "collapsed": true
   },
   "outputs": [],
   "source": [
    "class MyComposedClass(object):\n",
    "    \n",
    "    def __init__(self):\n",
    "        self.other = Other()\n",
    "        \n",
    "    def implicit(self):\n",
    "        self.other.implicit()\n",
    "        \n",
    "    def override(self):\n",
    "        print(\"MyComposedClass override()\")\n",
    "        \n",
    "    def altered(self):\n",
    "        print(\"MyComposedClass, BEFORE OTHER altered()\")\n",
    "        self.other.altered()\n",
    "        print(\"MyComposedClass, AFTER OTHER altered()\")"
   ]
  },
  {
   "cell_type": "code",
   "execution_count": 4,
   "metadata": {
    "collapsed": false
   },
   "outputs": [
    {
     "name": "stdout",
     "output_type": "stream",
     "text": [
      "Other __init__\n"
     ]
    }
   ],
   "source": [
    "my_composed_class = MyComposedClass()"
   ]
  },
  {
   "cell_type": "code",
   "execution_count": 5,
   "metadata": {
    "collapsed": false
   },
   "outputs": [
    {
     "name": "stdout",
     "output_type": "stream",
     "text": [
      "Other implicit()\n"
     ]
    }
   ],
   "source": [
    "my_composed_class.implicit()"
   ]
  },
  {
   "cell_type": "code",
   "execution_count": 6,
   "metadata": {
    "collapsed": false
   },
   "outputs": [
    {
     "name": "stdout",
     "output_type": "stream",
     "text": [
      "MyComposedClass override()\n"
     ]
    }
   ],
   "source": [
    "my_composed_class.override()"
   ]
  },
  {
   "cell_type": "code",
   "execution_count": 7,
   "metadata": {
    "collapsed": false
   },
   "outputs": [
    {
     "name": "stdout",
     "output_type": "stream",
     "text": [
      "MyComposedClass, BEFORE OTHER altered()\n",
      "Other altered()\n",
      "MyComposedClass, AFTER OTHER altered()\n"
     ]
    }
   ],
   "source": [
    "my_composed_class.altered()"
   ]
  },
  {
   "cell_type": "markdown",
   "metadata": {},
   "source": [
    "# Properties"
   ]
  },
  {
   "cell_type": "code",
   "execution_count": 10,
   "metadata": {
    "collapsed": true
   },
   "outputs": [],
   "source": [
    "class MyClass(object):\n",
    "    \n",
    "    def __init__(self):\n",
    "        self._x  = 5 # \"_\" unwritten python rule dont mess with this\n",
    "        \n",
    "    def get_x(self):\n",
    "        return self._x\n",
    "    \n",
    "    def set_x(self, x):\n",
    "        if 2 < x < 9:\n",
    "            self._x = x\n",
    "        else:\n",
    "            raise ValueError(\"WTF?\")"
   ]
  },
  {
   "cell_type": "code",
   "execution_count": 12,
   "metadata": {
    "collapsed": true
   },
   "outputs": [],
   "source": [
    "my_class = MyClass()"
   ]
  },
  {
   "cell_type": "code",
   "execution_count": 13,
   "metadata": {
    "collapsed": false
   },
   "outputs": [
    {
     "data": {
      "text/plain": [
       "5"
      ]
     },
     "execution_count": 13,
     "metadata": {},
     "output_type": "execute_result"
    }
   ],
   "source": [
    "my_class.get_x()"
   ]
  },
  {
   "cell_type": "code",
   "execution_count": 14,
   "metadata": {
    "collapsed": true
   },
   "outputs": [],
   "source": [
    "my_class.set_x(4)"
   ]
  },
  {
   "cell_type": "code",
   "execution_count": 15,
   "metadata": {
    "collapsed": false
   },
   "outputs": [
    {
     "ename": "AttributeError",
     "evalue": "'MyClass' object has no attribute 'set'",
     "output_type": "error",
     "traceback": [
      "\u001b[1;31m---------------------------------------------------------------------------\u001b[0m",
      "\u001b[1;31mAttributeError\u001b[0m                            Traceback (most recent call last)",
      "\u001b[1;32m<ipython-input-15-7f70ccb53f6f>\u001b[0m in \u001b[0;36m<module>\u001b[1;34m()\u001b[0m\n\u001b[1;32m----> 1\u001b[1;33m \u001b[0mmy_class\u001b[0m\u001b[1;33m.\u001b[0m\u001b[0mset\u001b[0m\u001b[1;33m(\u001b[0m\u001b[1;36m11\u001b[0m\u001b[1;33m)\u001b[0m\u001b[1;33m\u001b[0m\u001b[0m\n\u001b[0m",
      "\u001b[1;31mAttributeError\u001b[0m: 'MyClass' object has no attribute 'set'"
     ]
    }
   ],
   "source": [
    "my_class.set(11)"
   ]
  },
  {
   "cell_type": "code",
   "execution_count": 16,
   "metadata": {
    "collapsed": true
   },
   "outputs": [],
   "source": [
    "my_other_class = MyClass()"
   ]
  },
  {
   "cell_type": "code",
   "execution_count": 17,
   "metadata": {
    "collapsed": false
   },
   "outputs": [
    {
     "ename": "ValueError",
     "evalue": "WTF?",
     "output_type": "error",
     "traceback": [
      "\u001b[1;31m---------------------------------------------------------------------------\u001b[0m",
      "\u001b[1;31mValueError\u001b[0m                                Traceback (most recent call last)",
      "\u001b[1;32m<ipython-input-17-32395822773f>\u001b[0m in \u001b[0;36m<module>\u001b[1;34m()\u001b[0m\n\u001b[1;32m----> 1\u001b[1;33m \u001b[0mmy_class\u001b[0m\u001b[1;33m.\u001b[0m\u001b[0mset_x\u001b[0m\u001b[1;33m(\u001b[0m\u001b[0mmy_class\u001b[0m\u001b[1;33m.\u001b[0m\u001b[0mget_x\u001b[0m\u001b[1;33m(\u001b[0m\u001b[1;33m)\u001b[0m \u001b[1;33m+\u001b[0m \u001b[0mmy_other_class\u001b[0m\u001b[1;33m.\u001b[0m\u001b[0mget_x\u001b[0m\u001b[1;33m(\u001b[0m\u001b[1;33m)\u001b[0m\u001b[1;33m)\u001b[0m\u001b[1;33m\u001b[0m\u001b[0m\n\u001b[0m",
      "\u001b[1;32m<ipython-input-10-a4a186460566>\u001b[0m in \u001b[0;36mset_x\u001b[1;34m(self, x)\u001b[0m\n\u001b[0;32m     11\u001b[0m             \u001b[0mself\u001b[0m\u001b[1;33m.\u001b[0m\u001b[0m_x\u001b[0m \u001b[1;33m=\u001b[0m \u001b[0mx\u001b[0m\u001b[1;33m\u001b[0m\u001b[0m\n\u001b[0;32m     12\u001b[0m         \u001b[1;32melse\u001b[0m\u001b[1;33m:\u001b[0m\u001b[1;33m\u001b[0m\u001b[0m\n\u001b[1;32m---> 13\u001b[1;33m             \u001b[1;32mraise\u001b[0m \u001b[0mValueError\u001b[0m\u001b[1;33m(\u001b[0m\u001b[1;34m\"WTF?\"\u001b[0m\u001b[1;33m)\u001b[0m\u001b[1;33m\u001b[0m\u001b[0m\n\u001b[0m",
      "\u001b[1;31mValueError\u001b[0m: WTF?"
     ]
    }
   ],
   "source": [
    "my_class.set_x(my_class.get_x() + my_other_class.get_x())"
   ]
  },
  {
   "cell_type": "code",
   "execution_count": 18,
   "metadata": {
    "collapsed": false,
    "scrolled": true
   },
   "outputs": [
    {
     "data": {
      "text/plain": [
       "4"
      ]
     },
     "execution_count": 18,
     "metadata": {},
     "output_type": "execute_result"
    }
   ],
   "source": [
    "my_class.get_x()"
   ]
  },
  {
   "cell_type": "code",
   "execution_count": 20,
   "metadata": {
    "collapsed": false
   },
   "outputs": [],
   "source": [
    "my_class._x = my_class._x + my_other_class._x"
   ]
  },
  {
   "cell_type": "code",
   "execution_count": 21,
   "metadata": {
    "collapsed": false
   },
   "outputs": [
    {
     "data": {
      "text/plain": [
       "<__main__.MyClass at 0x7f9a202a0b70>"
      ]
     },
     "execution_count": 21,
     "metadata": {},
     "output_type": "execute_result"
    }
   ],
   "source": [
    "my_class"
   ]
  },
  {
   "cell_type": "code",
   "execution_count": 22,
   "metadata": {
    "collapsed": false
   },
   "outputs": [
    {
     "data": {
      "text/plain": [
       "9"
      ]
     },
     "execution_count": 22,
     "metadata": {},
     "output_type": "execute_result"
    }
   ],
   "source": [
    "my_class._x"
   ]
  },
  {
   "cell_type": "code",
   "execution_count": 24,
   "metadata": {
    "collapsed": false
   },
   "outputs": [
    {
     "name": "stdout",
     "output_type": "stream",
     "text": [
      "Help on class property in module builtins:\n",
      "\n",
      "class property(object)\n",
      " |  property(fget=None, fset=None, fdel=None, doc=None) -> property attribute\n",
      " |  \n",
      " |  fget is a function to be used for getting an attribute value, and likewise\n",
      " |  fset is a function for setting, and fdel a function for del'ing, an\n",
      " |  attribute.  Typical use is to define a managed attribute x:\n",
      " |  \n",
      " |  class C(object):\n",
      " |      def getx(self): return self._x\n",
      " |      def setx(self, value): self._x = value\n",
      " |      def delx(self): del self._x\n",
      " |      x = property(getx, setx, delx, \"I'm the 'x' property.\")\n",
      " |  \n",
      " |  Decorators make defining new properties or modifying existing ones easy:\n",
      " |  \n",
      " |  class C(object):\n",
      " |      @property\n",
      " |      def x(self):\n",
      " |          \"I am the 'x' property.\"\n",
      " |          return self._x\n",
      " |      @x.setter\n",
      " |      def x(self, value):\n",
      " |          self._x = value\n",
      " |      @x.deleter\n",
      " |      def x(self):\n",
      " |          del self._x\n",
      " |  \n",
      " |  Methods defined here:\n",
      " |  \n",
      " |  __delete__(self, instance, /)\n",
      " |      Delete an attribute of instance.\n",
      " |  \n",
      " |  __get__(self, instance, owner, /)\n",
      " |      Return an attribute of instance, which is of type owner.\n",
      " |  \n",
      " |  __getattribute__(self, name, /)\n",
      " |      Return getattr(self, name).\n",
      " |  \n",
      " |  __init__(self, /, *args, **kwargs)\n",
      " |      Initialize self.  See help(type(self)) for accurate signature.\n",
      " |  \n",
      " |  __new__(*args, **kwargs) from builtins.type\n",
      " |      Create and return a new object.  See help(type) for accurate signature.\n",
      " |  \n",
      " |  __set__(self, instance, value, /)\n",
      " |      Set an attribute of instance to value.\n",
      " |  \n",
      " |  deleter(...)\n",
      " |      Descriptor to change the deleter on a property.\n",
      " |  \n",
      " |  getter(...)\n",
      " |      Descriptor to change the getter on a property.\n",
      " |  \n",
      " |  setter(...)\n",
      " |      Descriptor to change the setter on a property.\n",
      " |  \n",
      " |  ----------------------------------------------------------------------\n",
      " |  Data descriptors defined here:\n",
      " |  \n",
      " |  __isabstractmethod__\n",
      " |  \n",
      " |  fdel\n",
      " |  \n",
      " |  fget\n",
      " |  \n",
      " |  fset\n",
      "\n"
     ]
    }
   ],
   "source": [
    "help(property)"
   ]
  },
  {
   "cell_type": "code",
   "execution_count": 26,
   "metadata": {
    "collapsed": true
   },
   "outputs": [],
   "source": [
    "class MyClass2(object):\n",
    "    \n",
    "    def __init__(self):\n",
    "        self._x  = 5 # \"_\" unwritten python rule dont mess with this\n",
    "        \n",
    "    def get_x(self):\n",
    "        return self._x\n",
    "    \n",
    "    def set_x(self, x):\n",
    "        if 2 < x < 9:\n",
    "            self._x = x\n",
    "        else:\n",
    "            raise ValueError(\"WTF?\")\n",
    "            \n",
    "    x = property(get_x, set_x)"
   ]
  },
  {
   "cell_type": "code",
   "execution_count": 28,
   "metadata": {
    "collapsed": true
   },
   "outputs": [],
   "source": [
    "my_new_class2 = MyClass2()"
   ]
  },
  {
   "cell_type": "code",
   "execution_count": 34,
   "metadata": {
    "collapsed": false
   },
   "outputs": [],
   "source": [
    "my_new_class2.x = 8"
   ]
  },
  {
   "cell_type": "code",
   "execution_count": 32,
   "metadata": {
    "collapsed": false
   },
   "outputs": [
    {
     "data": {
      "text/plain": [
       "4"
      ]
     },
     "execution_count": 32,
     "metadata": {},
     "output_type": "execute_result"
    }
   ],
   "source": [
    "my_new_class2.x"
   ]
  },
  {
   "cell_type": "markdown",
   "metadata": {},
   "source": [
    "Getters and setters are used to validate inputs to a class attribute - allow for internal control of the class while still allowing users to interact with class attributes"
   ]
  },
  {
   "cell_type": "code",
   "execution_count": 49,
   "metadata": {
    "collapsed": false
   },
   "outputs": [],
   "source": [
    "class MyDecoratorClass(object):\n",
    "    \n",
    "    def __init__(self):\n",
    "        self._x  = 5 # \"_\" unwritten python rule dont mess with this\n",
    "        self._y = 10\n",
    "\n",
    "#     def get_x(self):\n",
    "#     return self._x        \n",
    "        \n",
    "    @property\n",
    "    def x(self):\n",
    "        return self._x\n",
    "    \n",
    "    \n",
    "#     def set_x(self, x):\n",
    "#         if 2 < x < 9:\n",
    "#             self._x = x\n",
    "#         else:\n",
    "#             raise ValueError(\"WTF?\")\n",
    "            \n",
    "    @x.setter\n",
    "    def x(self, x):\n",
    "        if 2 < x < 9:\n",
    "            self._x = x\n",
    "        else:\n",
    "            raise ValueError(\"WTF?\")\n",
    "            \n",
    "    #x = property(get_x, set_x)"
   ]
  },
  {
   "cell_type": "code",
   "execution_count": 50,
   "metadata": {
    "collapsed": true
   },
   "outputs": [],
   "source": [
    "my_decorator_class = MyDecoratorClass()"
   ]
  },
  {
   "cell_type": "code",
   "execution_count": 51,
   "metadata": {
    "collapsed": false
   },
   "outputs": [
    {
     "data": {
      "text/plain": [
       "5"
      ]
     },
     "execution_count": 51,
     "metadata": {},
     "output_type": "execute_result"
    }
   ],
   "source": [
    "my_decorator_class.x"
   ]
  },
  {
   "cell_type": "code",
   "execution_count": 52,
   "metadata": {
    "collapsed": false
   },
   "outputs": [],
   "source": [
    "my_decorator_class.x += 1"
   ]
  },
  {
   "cell_type": "code",
   "execution_count": 53,
   "metadata": {
    "collapsed": false
   },
   "outputs": [
    {
     "data": {
      "text/plain": [
       "6"
      ]
     },
     "execution_count": 53,
     "metadata": {},
     "output_type": "execute_result"
    }
   ],
   "source": [
    "my_decorator_class.x"
   ]
  },
  {
   "cell_type": "code",
   "execution_count": null,
   "metadata": {
    "collapsed": true
   },
   "outputs": [],
   "source": []
  }
 ],
 "metadata": {
  "kernelspec": {
   "display_name": "Python 3",
   "language": "python",
   "name": "python3"
  },
  "language_info": {
   "codemirror_mode": {
    "name": "ipython",
    "version": 3
   },
   "file_extension": ".py",
   "mimetype": "text/x-python",
   "name": "python",
   "nbconvert_exporter": "python",
   "pygments_lexer": "ipython3",
   "version": "3.4.3"
  }
 },
 "nbformat": 4,
 "nbformat_minor": 0
}
