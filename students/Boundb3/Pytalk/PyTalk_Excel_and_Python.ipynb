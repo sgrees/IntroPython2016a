{
 "cells": [
  {
   "cell_type": "markdown",
   "metadata": {},
   "source": [
    "# Pytalk: Excel and Python "
   ]
  },
  {
   "cell_type": "markdown",
   "metadata": {},
   "source": [
    "- Brennen Bounds:\n",
    "    Source Reference: Automate the Boring Stuff with Python (Chapt 12)"
   ]
  },
  {
   "cell_type": "code",
   "execution_count": 1,
   "metadata": {},
   "outputs": [],
   "source": [
    "### do your pip install openpyxl: then..."
   ]
  },
  {
   "cell_type": "code",
   "execution_count": 2,
   "metadata": {},
   "outputs": [],
   "source": [
    "import openpyxl"
   ]
  },
  {
   "cell_type": "code",
   "execution_count": 3,
   "metadata": {},
   "outputs": [],
   "source": [
    "wb = openpyxl.load_workbook(\"example.xlsx\")"
   ]
  },
  {
   "cell_type": "markdown",
   "metadata": {},
   "source": [
    "## Access Data inside an excel spreadsheet"
   ]
  },
  {
   "cell_type": "code",
   "execution_count": 4,
   "metadata": {},
   "outputs": [
    {
     "data": {
      "text/plain": [
       "['Sheet-fruit', 'Sheet2', 'Sheet3']"
      ]
     },
     "execution_count": 4,
     "output_type": "execute_result",
     "metadata": {}
    }
   ],
   "source": [
    "wb.get_sheet_names()"
   ]
  },
  {
   "cell_type": "code",
   "execution_count": 6,
   "metadata": {},
   "outputs": [
    {
     "data": {
      "text/plain": [
       "openpyxl.workbook.workbook.Workbook"
      ]
     },
     "execution_count": 6,
     "output_type": "execute_result",
     "metadata": {}
    }
   ],
   "source": [
    "type(wb)"
   ]
  },
  {
   "cell_type": "code",
   "execution_count": 24,
   "metadata": {},
   "outputs": [
    {
     "data": {
      "text/plain": [
       "<Worksheet \"Sheet-fruit\">"
      ]
     },
     "execution_count": 24,
     "output_type": "execute_result",
     "metadata": {}
    }
   ],
   "source": [
    "ws = wb.active\n",
    "ws"
   ]
  },
  {
   "cell_type": "code",
   "execution_count": 13,
   "metadata": {},
   "outputs": [
    {
     "data": {
      "text/plain": [
       "openpyxl.worksheet.worksheet.Worksheet"
      ]
     },
     "execution_count": 13,
     "output_type": "execute_result",
     "metadata": {}
    }
   ],
   "source": [
    "type(ws)"
   ]
  },
  {
   "cell_type": "markdown",
   "metadata": {},
   "source": [
    "# Checking cell contents"
   ]
  },
  {
   "cell_type": "code",
   "execution_count": 15,
   "metadata": {},
   "outputs": [
    {
     "data": {
      "text/plain": [
       "datetime.datetime(2015, 4, 5, 13, 34)"
      ]
     },
     "execution_count": 15,
     "output_type": "execute_result",
     "metadata": {}
    }
   ],
   "source": [
    "a1 = ws[\"A1\"]\n",
    "a1.value"
   ]
  },
  {
   "cell_type": "code",
   "execution_count": 16,
   "metadata": {},
   "outputs": [
    {
     "data": {
      "text/plain": [
       "<Cell Sheet-fruit.B1>"
      ]
     },
     "execution_count": 16,
     "output_type": "execute_result",
     "metadata": {}
    }
   ],
   "source": [
    "ws.cell(row = 1, column = 2)"
   ]
  },
  {
   "cell_type": "code",
   "execution_count": 17,
   "metadata": {},
   "outputs": [
    {
     "data": {
      "text/plain": [
       "'Apples'"
      ]
     },
     "execution_count": 17,
     "output_type": "execute_result",
     "metadata": {}
    }
   ],
   "source": [
    "ws.cell(row = 1, column = 2).value"
   ]
  },
  {
   "cell_type": "markdown",
   "metadata": {},
   "source": [
    "## Verify sheet contents"
   ]
  },
  {
   "cell_type": "code",
   "execution_count": 22,
   "metadata": {},
   "outputs": [
    {
     "data": {
      "text/plain": [
       "7"
      ]
     },
     "execution_count": 22,
     "output_type": "execute_result",
     "metadata": {}
    }
   ],
   "source": [
    "ws.max_row"
   ]
  },
  {
   "cell_type": "markdown",
   "metadata": {},
   "source": [
    "## Access a column or row of data"
   ]
  },
  {
   "cell_type": "code",
   "execution_count": 27,
   "metadata": {},
   "outputs": [
    {
     "data": {
      "text/plain": [
       "((<Cell Sheet-fruit.A1>, <Cell Sheet-fruit.B1>, <Cell Sheet-fruit.C1>),\n",
       " (<Cell Sheet-fruit.A2>, <Cell Sheet-fruit.B2>, <Cell Sheet-fruit.C2>),\n",
       " (<Cell Sheet-fruit.A3>, <Cell Sheet-fruit.B3>, <Cell Sheet-fruit.C3>),\n",
       " (<Cell Sheet-fruit.A4>, <Cell Sheet-fruit.B4>, <Cell Sheet-fruit.C4>),\n",
       " (<Cell Sheet-fruit.A5>, <Cell Sheet-fruit.B5>, <Cell Sheet-fruit.C5>),\n",
       " (<Cell Sheet-fruit.A6>, <Cell Sheet-fruit.B6>, <Cell Sheet-fruit.C6>),\n",
       " (<Cell Sheet-fruit.A7>, <Cell Sheet-fruit.B7>, <Cell Sheet-fruit.C7>))"
      ]
     },
     "execution_count": 27,
     "output_type": "execute_result",
     "metadata": {}
    }
   ],
   "source": [
    "tuple(ws[\"A1\":\"C7\"])"
   ]
  },
  {
   "cell_type": "markdown",
   "metadata": {},
   "source": [
    "# by Row"
   ]
  },
  {
   "cell_type": "code",
   "execution_count": 33,
   "metadata": {},
   "outputs": [
    {
     "name": "stdout",
     "output_type": "stream",
     "text": [
      "A1 2015-04-05 13:34:00\n",
      "B1 Apples\n",
      "C1 73\n",
      "**rowbreak**\n",
      "A2 2015-04-05 03:41:00\n",
      "B2 Cherries\n",
      "C2 85\n",
      "**rowbreak**\n",
      "A3 2015-04-06 12:46:00\n",
      "B3 Pears\n",
      "C3 14\n",
      "**rowbreak**\n",
      "A4 2015-04-08 08:59:00\n",
      "B4 Oranges\n",
      "C4 52\n",
      "**rowbreak**\n",
      "A5 2015-04-10 02:07:00\n",
      "B5 Apples\n",
      "C5 152\n",
      "**rowbreak**\n",
      "A6 2015-04-10 18:10:00\n",
      "B6 Bananas\n",
      "C6 23\n",
      "**rowbreak**\n",
      "A7 2015-04-10 02:40:00\n",
      "B7 Strawberries\n",
      "C7 98\n",
      "**rowbreak**\n"
     ]
    }
   ],
   "source": [
    "for rowofcellObjects in ws[\"A1\":\"C7\"]:\n",
    "    for cellObj in rowofcellObjects:\n",
    "        print (cellObj.coordinate, cellObj.value)\n",
    "    print( \"**rowbreak**\")"
   ]
  },
  {
   "cell_type": "markdown",
   "metadata": {},
   "source": [
    "# by Column"
   ]
  },
  {
   "cell_type": "code",
   "execution_count": 35,
   "metadata": {},
   "outputs": [
    {
     "data": {
      "text/plain": [
       "(<Cell Sheet-fruit.B1>,\n",
       " <Cell Sheet-fruit.B2>,\n",
       " <Cell Sheet-fruit.B3>,\n",
       " <Cell Sheet-fruit.B4>,\n",
       " <Cell Sheet-fruit.B5>,\n",
       " <Cell Sheet-fruit.B6>,\n",
       " <Cell Sheet-fruit.B7>)"
      ]
     },
     "execution_count": 35,
     "output_type": "execute_result",
     "metadata": {}
    }
   ],
   "source": [
    "ws.columns[1]"
   ]
  },
  {
   "cell_type": "markdown",
   "metadata": {},
   "source": [
    "# Iterate to get the cell level data retreived from sections of data"
   ]
  },
  {
   "cell_type": "code",
   "execution_count": 37,
   "metadata": {},
   "outputs": [
    {
     "ename": "AttributeError",
     "evalue": "'tuple' object has no attribute 'values'",
     "output_type": "error",
     "traceback": [
      "\u001b[1;31m---------------------------------------------------------------------------\u001b[0m",
      "\u001b[1;31mAttributeError\u001b[0m                            Traceback (most recent call last)",
      "\u001b[1;32m<ipython-input-37-2d9648e89762>\u001b[0m in \u001b[0;36m<module>\u001b[1;34m()\u001b[0m\n\u001b[1;32m----> 1\u001b[1;33m \u001b[0mws\u001b[0m\u001b[1;33m.\u001b[0m\u001b[0mcolumns\u001b[0m\u001b[1;33m[\u001b[0m\u001b[1;36m1\u001b[0m\u001b[1;33m]\u001b[0m\u001b[1;33m.\u001b[0m\u001b[0mvalues\u001b[0m\u001b[1;33m(\u001b[0m\u001b[1;33m)\u001b[0m\u001b[1;33m\u001b[0m\u001b[0m\n\u001b[0m",
      "\u001b[1;31mAttributeError\u001b[0m: 'tuple' object has no attribute 'values'"
     ]
    }
   ],
   "source": [
    "ws.columns[1].values() # can't directly grab the data, need to iterate over the group to convert to a python class"
   ]
  },
  {
   "cell_type": "code",
   "execution_count": 38,
   "metadata": {},
   "outputs": [
    {
     "name": "stdout",
     "output_type": "stream",
     "text": [
      "Apples\n",
      "Cherries\n",
      "Pears\n",
      "Oranges\n",
      "Apples\n",
      "Bananas\n",
      "Strawberries\n"
     ]
    }
   ],
   "source": [
    "for cellObj in ws.columns[1]:\n",
    "    print(cellObj.value)"
   ]
  },
  {
   "cell_type": "markdown",
   "metadata": {},
   "source": [
    "# I can use the column or rows attributes to get a slice of data"
   ]
  },
  {
   "cell_type": "code",
   "execution_count": 40,
   "metadata": {},
   "outputs": [
    {
     "data": {
      "text/plain": [
       "((<Cell Sheet-fruit.A1>,\n",
       "  <Cell Sheet-fruit.A2>,\n",
       "  <Cell Sheet-fruit.A3>,\n",
       "  <Cell Sheet-fruit.A4>,\n",
       "  <Cell Sheet-fruit.A5>,\n",
       "  <Cell Sheet-fruit.A6>,\n",
       "  <Cell Sheet-fruit.A7>),\n",
       " (<Cell Sheet-fruit.B1>,\n",
       "  <Cell Sheet-fruit.B2>,\n",
       "  <Cell Sheet-fruit.B3>,\n",
       "  <Cell Sheet-fruit.B4>,\n",
       "  <Cell Sheet-fruit.B5>,\n",
       "  <Cell Sheet-fruit.B6>,\n",
       "  <Cell Sheet-fruit.B7>),\n",
       " (<Cell Sheet-fruit.C1>,\n",
       "  <Cell Sheet-fruit.C2>,\n",
       "  <Cell Sheet-fruit.C3>,\n",
       "  <Cell Sheet-fruit.C4>,\n",
       "  <Cell Sheet-fruit.C5>,\n",
       "  <Cell Sheet-fruit.C6>,\n",
       "  <Cell Sheet-fruit.C7>))"
      ]
     },
     "execution_count": 40,
     "output_type": "execute_result",
     "metadata": {}
    }
   ],
   "source": [
    "ws.columns[1:3]"
   ]
  },
  {
   "cell_type": "markdown",
   "metadata": {},
   "source": [
    "# So, now we can capture data into a Python structure like a list"
   ]
  },
  {
   "cell_type": "code",
   "execution_count": 52,
   "metadata": {},
   "outputs": [
    {
     "name": "stdout",
     "output_type": "stream",
     "text": [
      "Apples\n",
      "Cherries\n",
      "Pears\n",
      "Oranges\n",
      "Apples\n",
      "Bananas\n",
      "Strawberries\n",
      "['Apples', 'Cherries', 'Pears', 'Oranges', 'Apples', 'Bananas', 'Strawberries']\n"
     ]
    }
   ],
   "source": [
    "fruits = []\n",
    "for row in range(1,ws.max_row+1): #start the range at 1  for row one, would use row 2 if their was a header\n",
    "    fruit = ws[\"B\"+str(row)].value #add the value in the row to a string\n",
    "    fruits.append(fruit) # use python ways to convert that individual string data into a list\n",
    "    print(fruit)\n",
    "print(fruits)"
   ]
  },
  {
   "cell_type": "markdown",
   "metadata": {},
   "source": [
    "# You can also write data to an excel file, but that is another topic. "
   ]
  },
  {
   "cell_type": "code",
   "execution_count": null,
   "metadata": {},
   "outputs": [],
   "source": [
    "#I hope you enjoyed seeing the ease of pulling data from an MS Excel file so you can use your python skills or excel skills\n",
    "interchangably between the two.\n",
    "\n",
    "#pip install openypxl is a library that can do that for you!\n",
    "\n",
    "# also, yes, we can bring in and write results or formulas in an excell sheet, but only one or the other"
   ]
  }
 ],
 "metadata": {
  "kernelspec": {
   "display_name": "Python 3",
   "language": "python",
   "name": "python3"
  },
  "language_info": {
   "codemirror_mode": {
    "name": "ipython",
    "version": 3.0
   },
   "file_extension": ".py",
   "mimetype": "text/x-python",
   "name": "python",
   "nbconvert_exporter": "python",
   "pygments_lexer": "ipython3",
   "version": "3.5.0"
  }
 },
 "nbformat": 4,
 "nbformat_minor": 0
}